{
 "cells": [
  {
   "cell_type": "markdown",
   "metadata": {},
   "source": [
    "## Weather data analysisA\n"
   ]
  },
  {
   "cell_type": "code",
   "execution_count": 1,
   "metadata": {},
   "outputs": [
    {
     "name": "stderr",
     "output_type": "stream",
     "text": [
      "/home/adam/Desktop/GITHUB_ADD/Weather_statistsics/windrose/windrose.py:29: MatplotlibDeprecationWarning: \n",
      "The Appender class was deprecated in Matplotlib 3.1 and will be removed in 3.3.\n",
      "  addendum = docstring.Appender(msg, \"\\n\\n\")\n",
      "/home/adam/Desktop/GITHUB_ADD/Weather_statistsics/windrose/windrose.py:30: MatplotlibDeprecationWarning: \n",
      "The copy_dedent function was deprecated in Matplotlib 3.1 and will be removed in 3.3. Use docstring.copy() and cbook.dedent() instead.\n",
      "  return lambda func: addendum(docstring.copy_dedent(base)(func))\n",
      "/home/adam/Desktop/GITHUB_ADD/Weather_statistsics/windrose/windrose.py:30: MatplotlibDeprecationWarning: \n",
      "The dedent function was deprecated in Matplotlib 3.1 and will be removed in 3.3. Use inspect.getdoc() instead.\n",
      "  return lambda func: addendum(docstring.copy_dedent(base)(func))\n",
      "/home/adam/Desktop/GITHUB_ADD/Weather_statistsics/windrose/windrose.py:30: MatplotlibDeprecationWarning: \n",
      "The dedent function was deprecated in Matplotlib 3.1 and will be removed in 3.3. Use inspect.cleandoc instead.\n",
      "  return lambda func: addendum(docstring.copy_dedent(base)(func))\n"
     ]
    },
    {
     "ename": "NameError",
     "evalue": "name 'reload' is not defined",
     "output_type": "error",
     "traceback": [
      "\u001b[0;31m---------------------------------------------------------------------------\u001b[0m",
      "\u001b[0;31mNameError\u001b[0m                                 Traceback (most recent call last)",
      "\u001b[0;32m<ipython-input-1-28186a995f56>\u001b[0m in \u001b[0;36m<module>\u001b[0;34m()\u001b[0m\n\u001b[1;32m     11\u001b[0m \u001b[0;32mimport\u001b[0m \u001b[0msys\u001b[0m\u001b[0;34m\u001b[0m\u001b[0;34m\u001b[0m\u001b[0m\n\u001b[1;32m     12\u001b[0m \u001b[0mstdout\u001b[0m \u001b[0;34m=\u001b[0m \u001b[0msys\u001b[0m\u001b[0;34m.\u001b[0m\u001b[0mstdout\u001b[0m\u001b[0;34m\u001b[0m\u001b[0;34m\u001b[0m\u001b[0m\n\u001b[0;32m---> 13\u001b[0;31m \u001b[0mreload\u001b[0m\u001b[0;34m(\u001b[0m\u001b[0msys\u001b[0m\u001b[0;34m)\u001b[0m\u001b[0;34m\u001b[0m\u001b[0;34m\u001b[0m\u001b[0m\n\u001b[0m\u001b[1;32m     14\u001b[0m \u001b[0msys\u001b[0m\u001b[0;34m.\u001b[0m\u001b[0msetdefaultencoding\u001b[0m\u001b[0;34m(\u001b[0m\u001b[0;34m'utf-8'\u001b[0m\u001b[0;34m)\u001b[0m\u001b[0;34m\u001b[0m\u001b[0;34m\u001b[0m\u001b[0m\n\u001b[1;32m     15\u001b[0m \u001b[0msys\u001b[0m\u001b[0;34m.\u001b[0m\u001b[0mstdout\u001b[0m \u001b[0;34m=\u001b[0m \u001b[0mstdout\u001b[0m\u001b[0;34m\u001b[0m\u001b[0;34m\u001b[0m\u001b[0m\n",
      "\u001b[0;31mNameError\u001b[0m: name 'reload' is not defined"
     ]
    }
   ],
   "source": [
    "import pandas as pd\n",
    "import numpy as np\n",
    "import os\n",
    "import seaborn as sns; sns.set()\n",
    "import matplotlib.pyplot as plt\n",
    "import matplotlib.cm as cm\n",
    "import glob\n",
    "from windrose import WindroseAxes\n",
    "from math import pi\n",
    "\n",
    "import sys\n",
    "stdout = sys.stdout\n",
    "reload(sys)\n",
    "sys.setdefaultencoding('utf-8')\n",
    "sys.stdout = stdout\n"
   ]
  },
  {
   "cell_type": "code",
   "execution_count": null,
   "metadata": {},
   "outputs": [],
   "source": [
    "# Reading all the CSV files\n",
    "# Saving them in one pandas dataframe\n",
    "\n",
    "path = r'Data'  \n",
    "all_files = glob.glob(os.path.join(path, \"*.csv\"))     # advisable to use os.path.join as this makes concatenation OS independent\n",
    "df_from_each_file = (pd.read_csv(f, header = 10, sep= ';') for f in all_files)\n",
    "df = pd.concat(df_from_each_file, ignore_index=True)  \n"
   ]
  },
  {
   "cell_type": "code",
   "execution_count": null,
   "metadata": {},
   "outputs": [],
   "source": [
    "df.head()"
   ]
  },
  {
   "cell_type": "code",
   "execution_count": null,
   "metadata": {},
   "outputs": [],
   "source": [
    "df.describe()"
   ]
  },
  {
   "cell_type": "markdown",
   "metadata": {},
   "source": [
    "## List of variables"
   ]
  },
  {
   "cell_type": "code",
   "execution_count": null,
   "metadata": {},
   "outputs": [],
   "source": [
    "df[\"Date\"] = pd.to_datetime(df[['Year', 'Month', 'Day', 'Hour']])\n",
    "\n",
    "units = ['°C', '%' ,'hPa' ,'mm' , 'mm' ,'cm' , 'cm' , '%' ,'%' ,'%', '%', 'min', 'W/m2','km/h' , '°' ,'km/h', '°', 'km/h', '°', 'km/h'] #hard coded from the CSV\n",
    "print(\"List of columns and their respective units: \\n\")\n",
    "\n",
    "# List of columns\n",
    "for i, column_name in enumerate(df.columns.values[0:25]):\n",
    "    if i > 4 :\n",
    "        print(\"{} \\t {}\".format(units[i-5], column_name))"
   ]
  },
  {
   "cell_type": "markdown",
   "metadata": {},
   "source": [
    "## Temperature and Relative humidity [2 m above gnd]"
   ]
  },
  {
   "cell_type": "code",
   "execution_count": null,
   "metadata": {},
   "outputs": [],
   "source": [
    "fig = plt.figure(figsize=(25, 15))\n",
    "ax1 = fig.add_subplot(111)\n",
    "plt.grid()\n",
    "ax1 = sns.scatterplot(\"Date\", \"Temperature  [2 m above gnd]\", data=df, marker='X', s=70, label='Temperature 2m above gnd (°C)')\n",
    "ax1 = sns.scatterplot(\"Date\", \"Relative Humidity  [2 m above gnd]\", data=df, marker='o', s=70, label='Relative humidity 2m above gnd (%)')\n",
    "ax1.set_xlim(df[\"Date\"][0], df[\"Date\"].iloc[-1])\n",
    "ax1.set_xlabel('Date')\n",
    "ax1.set_ylabel('Value')\n",
    "ax1.legend(title=\"Legend\", loc=(0, -0.1))\n"
   ]
  },
  {
   "cell_type": "markdown",
   "metadata": {},
   "source": [
    "## Mean Sea Level Pressure"
   ]
  },
  {
   "cell_type": "code",
   "execution_count": null,
   "metadata": {},
   "outputs": [],
   "source": [
    "fig = plt.figure(figsize=(25, 15))\n",
    "ax_pressure = fig.add_subplot(111)\n",
    "plt.grid()\n",
    "\n",
    "ax_pressure = sns.scatterplot(\"Date\", \"Mean Sea Level Pressure  [MSL]\", data=df, marker='o', s=70, label='Mean Sea Level Pressure')\n",
    "ax_pressure.set_xlim(df[\"Date\"][0], df[\"Date\"].iloc[-1])\n",
    "ax_pressure.set_xlabel('Date')\n",
    "ax_pressure.set_ylabel('Mean Sea Level Pressure (hPa)')\n",
    "ax_pressure.legend(title=\"Legend\", loc=(0, -0.1))"
   ]
  },
  {
   "cell_type": "markdown",
   "metadata": {},
   "source": [
    "## Shortwave Radiation (or Global Horizontal Irradiance)"
   ]
  },
  {
   "cell_type": "code",
   "execution_count": null,
   "metadata": {},
   "outputs": [],
   "source": [
    "fig = plt.figure(figsize=(25, 15))\n",
    "ax_radiation = fig.add_subplot(111)\n",
    "ax_radiation.grid()\n",
    "\n",
    "ax_radiation = sns.distplot(df[\"Shortwave Radiation  [sfc]\"], label='Shortwave Radiation [W/m2]')\n",
    "ax_radiation.set_xlabel('Shortwave Radiation [W/m2]')\n",
    "ax_radiation.set_ylabel('Events')\n",
    "ax_radiation.legend(title=\"Legend\", loc=(0, -0.1))"
   ]
  },
  {
   "cell_type": "markdown",
   "metadata": {},
   "source": [
    "## Sunshine duration"
   ]
  },
  {
   "cell_type": "code",
   "execution_count": null,
   "metadata": {},
   "outputs": [],
   "source": [
    "fig = plt.figure(figsize=(25, 15))\n",
    "ax_sunshine_duration = fig.add_subplot(111)\n",
    "ax_sunshine_duration.grid()\n",
    "\n",
    "ax_sunshine_duration = sns.distplot(df[\"Sunshine Duration  [sfc]\"], bins=250, label='Sunshine duration   (min)')\n",
    "ax_sunshine_duration.set_xlabel('Sunshine duration (min)')\n",
    "ax_sunshine_duration.set_ylabel('Events')\n",
    "ax_sunshine_duration.legend(title=\"Legend\", loc=(0, -0.1))\n",
    "ax_sunshine_duration.set_xlim(0, 70)\n"
   ]
  },
  {
   "cell_type": "markdown",
   "metadata": {},
   "source": [
    "## Wind speed"
   ]
  },
  {
   "cell_type": "code",
   "execution_count": null,
   "metadata": {},
   "outputs": [],
   "source": [
    "fig = plt.figure(figsize=(25, 15))\n",
    "\n",
    "df['X_Wind_Speed_10_meters'] = df['Wind Speed  [10 m above gnd]'] * np.sin(df['Wind Direction  [10 m above gnd]'] * pi / 180.0)\n",
    "df['Y_Wind_Speed_10_meters'] = df['Wind Speed  [10 m above gnd]'] * np.cos(df['Wind Direction  [10 m above gnd]'] * pi / 180.0)\n",
    "df['X_Wind_Speed_80_meters'] = df['Wind Speed  [80 m above gnd]'] * np.sin(df['Wind Direction  [80 m above gnd]'] * pi / 180.0)\n",
    "df['Y_Wind_Speed_80_meters'] = df['Wind Speed  [80 m above gnd]'] * np.cos(df['Wind Direction  [80 m above gnd]'] * pi / 180.0)\n",
    "df['X_Wind_Speed_900_mb'] = df['Wind Speed  [900 mb]'] * np.sin(df['Wind Direction  [900 mb]'] * pi / 180.0)\n",
    "df['Y_Wind_Speed_900_mb'] = df['Wind Speed  [900 mb]'] * np.cos(df['Wind Direction  [900 mb]'] * pi / 180.0)\n",
    "\n",
    "ax3 = fig.add_subplot(2, 3, 1)\n",
    "ax4 = fig.add_subplot(2, 3, 2)\n",
    "ax5 = fig.add_subplot(2, 3, 3)\n",
    "\n",
    "\n",
    "ax3.set_aspect('equal')\n",
    "ax3.set_title('Wind speed 10 meters above ground [km/h]')\n",
    "ax3 = df.plot(kind='scatter', x='X_Wind_Speed_10_meters', y='Y_Wind_Speed_10_meters', ax=ax3, color='b')\n",
    "\n",
    "\n",
    "ax4.set_aspect('equal')\n",
    "ax4.set_title('Wind speed 80 meters above ground [km/h]')\n",
    "ax4 = df.plot(kind='scatter', x='X_Wind_Speed_80_meters', y='Y_Wind_Speed_80_meters', ax=ax4, color='r')\n",
    "\n",
    "ax5.set_aspect('equal')\n",
    "ax5.set_title('Wind speed at pressure of 900 mb [km/h]')\n",
    "ax5 = df.plot(kind='scatter', x='X_Wind_Speed_900_mb', y='Y_Wind_Speed_900_mb', ax=ax5, color='g')\n",
    "\n"
   ]
  },
  {
   "cell_type": "markdown",
   "metadata": {},
   "source": [
    "## Wind plots"
   ]
  },
  {
   "cell_type": "code",
   "execution_count": null,
   "metadata": {},
   "outputs": [],
   "source": [
    "fig = plt.figure(figsize=(25, 15))\n",
    "\n",
    "\n",
    "plt.style.use('default') #To switch to seaborn use plt.style.use('seaborn') \n",
    "\n",
    "\n",
    "ax6 = WindroseAxes.from_ax()\n",
    "ax6.bar(df['Wind Direction  [80 m above gnd]'], df['Wind Speed  [80 m above gnd]'], normed=True, opening=1.5, edgecolor='black')\n",
    "ax6.set_title(\"Wind speed and direction \", position=(0.5, 1.1))\n",
    "ax6.set_yticklabels([])\n",
    "ax6.set_legend()\n",
    "ax6.legend(title=\"wind speed (m/s)\", loc=(1.1, 0))\n",
    "\n",
    "ax7 = WindroseAxes.from_ax()\n",
    "ax7.contourf(df['Wind Direction  [80 m above gnd]'], df['Wind Speed  [80 m above gnd]'], cmap=cm.hot)\n",
    "ax7.set_legend()\n",
    "\n",
    "\n",
    "\n"
   ]
  },
  {
   "cell_type": "markdown",
   "metadata": {},
   "source": [
    "## Correlation between variables"
   ]
  },
  {
   "cell_type": "code",
   "execution_count": null,
   "metadata": {},
   "outputs": [],
   "source": [
    "plt.style.use('seaborn') \n",
    "fig = plt.figure(figsize=(25, 15))\n",
    "ax2 = fig.add_subplot(111)\n",
    "corr = df.loc[:,df.dtypes == 'float64'].corr()\n",
    "ax2 = sns.heatmap(corr, xticklabels=corr.columns, yticklabels=corr.columns, cmap=sns.diverging_palette(220, 10, as_cmap=True))\n"
   ]
  },
  {
   "cell_type": "code",
   "execution_count": null,
   "metadata": {},
   "outputs": [],
   "source": []
  },
  {
   "cell_type": "code",
   "execution_count": null,
   "metadata": {},
   "outputs": [],
   "source": []
  },
  {
   "cell_type": "code",
   "execution_count": null,
   "metadata": {},
   "outputs": [],
   "source": []
  },
  {
   "cell_type": "code",
   "execution_count": null,
   "metadata": {},
   "outputs": [],
   "source": []
  },
  {
   "cell_type": "markdown",
   "metadata": {},
   "source": []
  }
 ],
 "metadata": {
  "kernelspec": {
   "display_name": "Python 3",
   "language": "python",
   "name": "python3"
  },
  "language_info": {
   "codemirror_mode": {
    "name": "ipython",
    "version": 3
   },
   "file_extension": ".py",
   "mimetype": "text/x-python",
   "name": "python",
   "nbconvert_exporter": "python",
   "pygments_lexer": "ipython3",
   "version": "3.7.3"
  }
 },
 "nbformat": 4,
 "nbformat_minor": 2
}
